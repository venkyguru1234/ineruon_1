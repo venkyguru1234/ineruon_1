{
 "cells": [
  {
   "cell_type": "code",
   "execution_count": 5,
   "id": "36a4e1a9-23d6-4917-8e13-0cf58f9baf56",
   "metadata": {},
   "outputs": [
    {
     "name": "stdout",
     "output_type": "stream",
     "text": [
      "The sum of the elements in list is: 15\n"
     ]
    }
   ],
   "source": [
    "#1. Write a Python program to find sum of elements in list?\n",
    "\n",
    "list=[1,2,3,4,5]\n",
    "sum=0\n",
    "for i in list:\n",
    "    sum+=i\n",
    "\n",
    "print(f\"The sum of the elements in list is: {sum}\")"
   ]
  },
  {
   "cell_type": "code",
   "execution_count": 7,
   "id": "119ea485-61a2-4935-8e73-f2a125c3dfc8",
   "metadata": {},
   "outputs": [
    {
     "name": "stdout",
     "output_type": "stream",
     "text": [
      "The sum of the elements in list is: 120\n"
     ]
    }
   ],
   "source": [
    "#2. Write a Python program to Multiply all numbers in the list?\n",
    "\n",
    "list=[1,2,3,4,5]\n",
    "product=1\n",
    "for i in list:\n",
    "    product*=i\n",
    "\n",
    "print(f\"The sum of the elements in list is: {product}\")"
   ]
  },
  {
   "cell_type": "code",
   "execution_count": 10,
   "id": "c4a4d3f8-f467-437c-876d-84b605cbc301",
   "metadata": {},
   "outputs": [
    {
     "name": "stdout",
     "output_type": "stream",
     "text": [
      "The smallest number in the list is 1\n"
     ]
    }
   ],
   "source": [
    "#3. Write a Python program to find smallest number in a list?\n",
    "\n",
    "list=[1,2,3,4,5]\n",
    "\n",
    "print(f\"The smallest number in the list is {min(list)}\")"
   ]
  },
  {
   "cell_type": "code",
   "execution_count": 12,
   "id": "998a054d-6a15-4ebf-90a9-4f23da5c0012",
   "metadata": {},
   "outputs": [
    {
     "name": "stdout",
     "output_type": "stream",
     "text": [
      "The largest number in the list is 5\n"
     ]
    }
   ],
   "source": [
    "#4. Write a Python program to find largest number in a list?\n",
    "\n",
    "list=[1,2,3,4,5]\n",
    "\n",
    "print(f\"The largest number in the list is {max(list)}\")"
   ]
  },
  {
   "cell_type": "code",
   "execution_count": 28,
   "id": "1f97a756-e2e1-4433-b303-da91b8e4a63a",
   "metadata": {},
   "outputs": [
    {
     "name": "stdout",
     "output_type": "stream",
     "text": [
      "The second largest number in the list is 4\n"
     ]
    }
   ],
   "source": [
    "#5. Write a Python program to find second largest number in a list?\n",
    "list=[1,2,3,4,5]\n",
    "list.sort(reverse=True)\n",
    "list1=[]\n",
    "list1=list\n",
    "list1.remove(max(list1))\n",
    "print(f\"The second largest number in the list is {list1[0]}\")\n",
    "\n"
   ]
  },
  {
   "cell_type": "code",
   "execution_count": 46,
   "id": "d0a2faf6-5c36-494a-b71f-e75ba28defe4",
   "metadata": {},
   "outputs": [
    {
     "name": "stdin",
     "output_type": "stream",
     "text": [
      "How many maximum elements required from the list 3\n"
     ]
    },
    {
     "name": "stdout",
     "output_type": "stream",
     "text": [
      "The 3 maximum elements from the list are: [9, 8, 7]\n"
     ]
    }
   ],
   "source": [
    "#6. Write a Python program to find N largest elements from a list?\n",
    "\n",
    "c=[4,5,6,7,8,9]\n",
    "new_list=[]\n",
    "n=int(input(\"How many maximum elements required from the list\"))\n",
    "for i in range(0,n):\n",
    "    max=0\n",
    "    for j in c:\n",
    "        if j>max:\n",
    "            max=j\n",
    "    c.remove(max)\n",
    "    new_list.append(max)\n",
    "\n",
    "print(f\"The {n} maximum elements from the list are: {new_list}\")\n",
    "    \n"
   ]
  },
  {
   "cell_type": "code",
   "execution_count": 49,
   "id": "bb7ac8ab-7fa5-4adf-b66f-f9520628d37a",
   "metadata": {},
   "outputs": [
    {
     "name": "stdout",
     "output_type": "stream",
     "text": [
      "2\n",
      "4\n",
      "6\n"
     ]
    }
   ],
   "source": [
    "#7. Write a Python program to print even numbers in a list?\n",
    "d=[1,2,3,4,5,6]\n",
    "for i in d:\n",
    "    if i%2==0:\n",
    "        print(i)\n"
   ]
  },
  {
   "cell_type": "code",
   "execution_count": 50,
   "id": "2034541b-9a8a-4d18-afca-8d2f91c1d156",
   "metadata": {},
   "outputs": [
    {
     "name": "stdout",
     "output_type": "stream",
     "text": [
      "1\n",
      "3\n",
      "5\n"
     ]
    }
   ],
   "source": [
    "#8. Write a Python program to print odd numbers in a List?\n",
    "\n",
    "d=[1,2,3,4,5,6]\n",
    "for i in d:\n",
    "    if i%2!=0:\n",
    "        print(i)"
   ]
  },
  {
   "cell_type": "code",
   "execution_count": 55,
   "id": "409563b6-f3c3-4d6a-8610-8c91ebe94725",
   "metadata": {},
   "outputs": [
    {
     "name": "stdout",
     "output_type": "stream",
     "text": [
      "The list after removing the empty list is:[[1, 2, 3, 4]]\n"
     ]
    }
   ],
   "source": [
    "#9. Write a Python program to Remove empty List from List?\n",
    "\n",
    "e=[[1,2,3,4],[]]\n",
    "for i in e:\n",
    "     if i==[]:\n",
    "        e.remove(i)\n",
    "print(f\"The list after removing the empty list is:{e}\")"
   ]
  },
  {
   "cell_type": "code",
   "execution_count": 72,
   "id": "5aadad2a-7ee2-4116-8c46-d9fe2fd2c206",
   "metadata": {},
   "outputs": [
    {
     "name": "stdout",
     "output_type": "stream",
     "text": [
      "[1, 2, 3, 40]\n"
     ]
    }
   ],
   "source": [
    "#10. Write a Python program to Cloning or Copying a list?\n",
    "\n",
    "f=[1,2,3,40]\n",
    "g=f.copy()\n",
    "print(g)"
   ]
  },
  {
   "cell_type": "code",
   "execution_count": 86,
   "id": "fc6df723-5f53-4bca-949d-6f654e45ad01",
   "metadata": {},
   "outputs": [
    {
     "data": {
      "text/plain": [
       "[[2, 2], [3, 1], [4, 1], [5, 2], [6, 1]]"
      ]
     },
     "execution_count": 86,
     "metadata": {},
     "output_type": "execute_result"
    }
   ],
   "source": [
    "#11. Write a Python program to Count occurrences of an element in a list?\n",
    "h=[2,2,3,4,5,5,6]\n",
    "for i in set(h):\n",
    "    print(i,h.count(i))\n",
    "    "
   ]
  },
  {
   "cell_type": "code",
   "execution_count": null,
   "id": "c40929c4-b078-4e2d-8eaf-287f21e505ec",
   "metadata": {},
   "outputs": [],
   "source": [
    "[[x,h.count(x)] for x in set(h)]"
   ]
  },
  {
   "cell_type": "code",
   "execution_count": null,
   "id": "49d157e8-3c63-4c28-bfd6-724b74b336d0",
   "metadata": {},
   "outputs": [],
   "source": []
  }
 ],
 "metadata": {
  "kernelspec": {
   "display_name": "Python 3 (ipykernel)",
   "language": "python",
   "name": "python3"
  },
  "language_info": {
   "codemirror_mode": {
    "name": "ipython",
    "version": 3
   },
   "file_extension": ".py",
   "mimetype": "text/x-python",
   "name": "python",
   "nbconvert_exporter": "python",
   "pygments_lexer": "ipython3",
   "version": "3.10.6"
  }
 },
 "nbformat": 4,
 "nbformat_minor": 5
}
