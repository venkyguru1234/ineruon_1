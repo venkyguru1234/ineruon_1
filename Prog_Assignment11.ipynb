{
 "cells": [
  {
   "cell_type": "code",
   "execution_count": 69,
   "id": "3b63e2b7-7cc7-4306-8d88-7f9bee6255ec",
   "metadata": {},
   "outputs": [
    {
     "name": "stdin",
     "output_type": "stream",
     "text": [
      "enter a string venky is a good guy\n",
      "Enter the threshold value 3\n"
     ]
    },
    {
     "name": "stdout",
     "output_type": "stream",
     "text": [
      "['venky', 'good']\n"
     ]
    }
   ],
   "source": [
    "#1. Write a Python program to find words which are greater than given length k?\n",
    "\n",
    "sent=input(\"enter a string\")\n",
    "length=int(input(\"Enter the threshold value\"))\n",
    "lst1=sent.split()\n",
    "greater=[]\n",
    "for i in lst1:\n",
    "    if len(i)>length:\n",
    "        greater.append(i)\n",
    "print(greater)\n",
    "        \n",
    "    "
   ]
  },
  {
   "cell_type": "code",
   "execution_count": 59,
   "id": "24abed65-42c2-408d-b59d-bcebbdd5c6d7",
   "metadata": {},
   "outputs": [
    {
     "name": "stdin",
     "output_type": "stream",
     "text": [
      "Input a string venky\n",
      "Input the character which you want to delete e\n"
     ]
    },
    {
     "name": "stdout",
     "output_type": "stream",
     "text": [
      "vnky\n"
     ]
    }
   ],
   "source": [
    "#2. Write a Python program for removing i-th character from a string?\n",
    "strings=input(\"Input a string\")\n",
    "lst=list(strings)\n",
    "char=input(\"Input the character which you want to delete\")\n",
    "for i in lst:\n",
    "    if i==char:\n",
    "        lst.remove(i)\n",
    "\n",
    "print(''.join(lst))\n",
    "\n",
    "\n",
    "\n",
    "    "
   ]
  },
  {
   "cell_type": "code",
   "execution_count": 44,
   "id": "fc2fd705-38b3-4fa6-8e72-1fd4090b56db",
   "metadata": {},
   "outputs": [
    {
     "name": "stdin",
     "output_type": "stream",
     "text": [
      "Enter a string venky is a good guy\n"
     ]
    },
    {
     "name": "stdout",
     "output_type": "stream",
     "text": [
      "The splitted string is ['venky', 'is', 'a', 'good', 'guy']\n",
      "The joint string is venky-is-a-good-guy\n"
     ]
    }
   ],
   "source": [
    "#3. Write a Python program to split and join a string?\n",
    "\n",
    "s=input(\"Enter a string\")\n",
    "split=s.split()\n",
    "print(f\"The splitted string is {split}\")\n",
    "rejoin='-'.join(split)\n",
    "print(f\"The joint string is {rejoin}\")"
   ]
  },
  {
   "cell_type": "code",
   "execution_count": 61,
   "id": "28f543c4-614a-4454-b43c-8f37b5f75cb6",
   "metadata": {},
   "outputs": [
    {
     "name": "stdin",
     "output_type": "stream",
     "text": [
      "Enter a string venkyz\n"
     ]
    },
    {
     "name": "stdout",
     "output_type": "stream",
     "text": [
      "String is non binary\n"
     ]
    }
   ],
   "source": [
    "#4. Write a Python to check if a given string is binary string or not?\n",
    "d=input(\"Enter a string\")\n",
    "flag=True\n",
    "for i in d:\n",
    "    if  i=='0' or i=='1'or i==0 or i==1:\n",
    "        flag=True\n",
    "        break\n",
    "        \n",
    "       \n",
    "    else:\n",
    "        flag=False\n",
    "\n",
    "if flag==True:\n",
    "    print(\"String is binary\")\n",
    "else:\n",
    "    print(\"String is non binary\")\n",
    "\n",
    "        \n",
    "     "
   ]
  },
  {
   "cell_type": "code",
   "execution_count": 11,
   "id": "2632c30f-bca7-4c74-b3f6-f6d28f44f340",
   "metadata": {},
   "outputs": [
    {
     "name": "stdin",
     "output_type": "stream",
     "text": [
      "Enter the first string venky good guy\n",
      "Enter the second string venky great guy\n"
     ]
    },
    {
     "name": "stdout",
     "output_type": "stream",
     "text": [
      "['good', 'great']\n"
     ]
    }
   ],
   "source": [
    "#5. Write a Python program to find uncommon words from two Strings?\n",
    "\n",
    "string1=input(\"Enter the first string\")\n",
    "string2=input(\"Enter the second string\")\n",
    "\n",
    "split1=string1.split()\n",
    "split2=string2.split()\n",
    "\n",
    "uncommon=[]\n",
    "for i in split1:\n",
    "    if i not in split2:\n",
    "        uncommon.append(i)\n",
    "for j in split2:\n",
    "    if j not in split1:\n",
    "        uncommon.append(j)\n",
    "print(uncommon)"
   ]
  },
  {
   "cell_type": "code",
   "execution_count": 49,
   "id": "47c86456-1749-4d98-991d-f3ede5675051",
   "metadata": {},
   "outputs": [
    {
     "name": "stdin",
     "output_type": "stream",
     "text": [
      "Enter a string venky is a good guy\n"
     ]
    },
    {
     "name": "stdout",
     "output_type": "stream",
     "text": [
      "['y', 'o', 'g']\n"
     ]
    }
   ],
   "source": [
    "#6. Write a Python to find all duplicate characters in string?\n",
    "\n",
    "duplicate=input(\"Enter a string\")\n",
    "d_list=list(duplicate)\n",
    "dupl_list=[]\n",
    "for i in set(d_list):\n",
    "    if d_list.count(i)>1 and i!=' ':\n",
    "        dupl_list.append(i)\n",
    "print(dupl_list)\n",
    "\n",
    "\n"
   ]
  },
  {
   "cell_type": "code",
   "execution_count": 88,
   "id": "b6cd9c0c-c4f1-4d54-8f45-20a158b50076",
   "metadata": {},
   "outputs": [
    {
     "name": "stdin",
     "output_type": "stream",
     "text": [
      "Enter a string venky@\n"
     ]
    },
    {
     "name": "stdout",
     "output_type": "stream",
     "text": [
      "The string has special characters\n"
     ]
    }
   ],
   "source": [
    "#7.Write a Python Program to check if a string contains any special character?\n",
    "Flag=False\n",
    "special=input(\"Enter a string\")\n",
    "for i in special:\n",
    "    if (not i.isalpha() and not i.isnumeric() and not i==' '):\n",
    "        \n",
    "        flag=True\n",
    "        break\n",
    "    else:\n",
    "        flag=False\n",
    "\n",
    "if flag==True:\n",
    "    print(\"The string has special characters\")\n",
    "else:\n",
    "    print(\"The string does not have special characters\")\n",
    "\n",
    "        \n",
    "\n"
   ]
  },
  {
   "cell_type": "code",
   "execution_count": null,
   "id": "89e209c0-aa2d-4613-97f5-50c15de2e45e",
   "metadata": {},
   "outputs": [],
   "source": []
  },
  {
   "cell_type": "code",
   "execution_count": null,
   "id": "db550e7e-ec39-4ebc-962d-da0527d7eead",
   "metadata": {},
   "outputs": [],
   "source": [
    "\n"
   ]
  },
  {
   "cell_type": "code",
   "execution_count": null,
   "id": "8c245c1d-7515-4474-a0b7-4348b0104312",
   "metadata": {},
   "outputs": [],
   "source": []
  }
 ],
 "metadata": {
  "kernelspec": {
   "display_name": "Python 3 (ipykernel)",
   "language": "python",
   "name": "python3"
  },
  "language_info": {
   "codemirror_mode": {
    "name": "ipython",
    "version": 3
   },
   "file_extension": ".py",
   "mimetype": "text/x-python",
   "name": "python",
   "nbconvert_exporter": "python",
   "pygments_lexer": "ipython3",
   "version": "3.10.6"
  }
 },
 "nbformat": 4,
 "nbformat_minor": 5
}
