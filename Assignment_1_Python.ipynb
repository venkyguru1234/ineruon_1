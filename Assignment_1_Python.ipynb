{
 "cells": [
  {
   "cell_type": "markdown",
   "metadata": {},
   "source": [
    "1. In the below elements which of them are values or an expression? eg:- values can be integer or string and expressions will be mathematical operators."
   ]
  },
  {
   "cell_type": "markdown",
   "metadata": {},
   "source": [
    "Solution:\n",
    "\n",
    "1) * is an operator which is used for multiplication\n",
    "\n",
    "2) 'hello' is a string variable \n",
    "\n",
    "3) -87.8 is a floating point number (decimal) variable\n",
    "\n",
    "4) - is an operator used for subtraction\n",
    "\n",
    "5) / is an operator used for division\n",
    "\n",
    "6) + is an opeartor used for addition\n",
    "\n",
    "7) 6 is an integer type variable"
   ]
  },
  {
   "cell_type": "markdown",
   "metadata": {},
   "source": [
    "2. What is the difference between string and variable?\n",
    "\n",
    "Solution:\n",
    "\n",
    "A variable is a type of container in the memory (RAM) which is used for holding a particular value. The type of value can be anything, it can be a number, a word, a sentence, a csv file etc. for example a=10, a is the variable, its an integer type variable.\n",
    "\n",
    "\n",
    "String is a type of variable. It contains data consisting of alphanumeric type. Foe example a='venky' is a variable of the type string."
   ]
  },
  {
   "cell_type": "markdown",
   "metadata": {},
   "source": [
    "3. Describe three different data types.\n",
    "\n",
    "Solution:\n",
    "\n",
    "The three different types of data types are:\n",
    "\n",
    "1) int: This datatype refers to the integer type of data. Used for storing numbers without a decimal point. For example a=20, a is integer type variable\n",
    "\n",
    "2) float: This datatype refers to the decimal numbers, i.e numbers which have a decimal point. For example a=6.9, a is a float type variable\n",
    "\n",
    "3) str: This datatype refers to the variable which contains alphanumeric data. For example a= 'hello' is a string type variable. When we declare a string variable, we use inverted commas."
   ]
  },
  {
   "cell_type": "code",
   "execution_count": 4,
   "metadata": {},
   "outputs": [
    {
     "name": "stdout",
     "output_type": "stream",
     "text": [
      "<class 'int'> <class 'float'> <class 'str'>\n"
     ]
    }
   ],
   "source": [
    "a=20\n",
    "b=6.9\n",
    "c='hello'\n",
    "\n",
    "print(type(a),type(b),type(c))"
   ]
  },
  {
   "cell_type": "markdown",
   "metadata": {},
   "source": [
    "4. What is an expression made up of? What do all expressions do?\n",
    "\n",
    "Solution:\n",
    "\n",
    "An expression is a combination of values, variables, operators, and calls to functions. Expressions need to be evaluated. If you ask Python to print an expression, the interpreter evaluates the expression and displays the result.\n",
    "\n",
    "When we evaluate an expression, we get a value. We make use of mathematical or logicak operators to do so. "
   ]
  },
  {
   "cell_type": "code",
   "execution_count": 6,
   "metadata": {},
   "outputs": [
    {
     "name": "stdout",
     "output_type": "stream",
     "text": [
      "30\n"
     ]
    }
   ],
   "source": [
    "#Example:\n",
    "    \n",
    "y= 20\n",
    "a= y+10\n",
    "print(a)"
   ]
  },
  {
   "cell_type": "markdown",
   "metadata": {},
   "source": [
    "In the above example, y+10 is an expression in which we are performing addition operation.\n"
   ]
  },
  {
   "cell_type": "markdown",
   "metadata": {},
   "source": [
    "5. This assignment statements, like spam = 10. What is the difference between an expression and a statement?\n",
    "\n",
    "Solution:\n",
    "\n",
    "spam= 10 is an assignment statement in which we are storing a value in the spam variable. This is called assigning a value. This does not return any value. They are simply executed. This is the difference between an assignment and an expression.  "
   ]
  },
  {
   "cell_type": "code",
   "execution_count": 9,
   "metadata": {},
   "outputs": [
    {
     "name": "stdout",
     "output_type": "stream",
     "text": [
      "20\n"
     ]
    }
   ],
   "source": [
    "s=20 #Assigning a value to a variable,does not return any value\n",
    "\n",
    "print(s) #this returns a value\n",
    "\n",
    " "
   ]
  },
  {
   "cell_type": "markdown",
   "metadata": {},
   "source": [
    "6. After running the following code, what does the variable bacon contain?\n",
    "\n",
    "bacon = 22\n",
    "\n",
    "bacon + 1"
   ]
  },
  {
   "cell_type": "markdown",
   "metadata": {},
   "source": [
    "The variable bacon would contain the value 22 which is its original value. The expression below would not change the value of bacon since we have not assigned it back to bacon. If we want to change the value of bacon the expression would be bacon=bacon+1"
   ]
  },
  {
   "cell_type": "markdown",
   "metadata": {},
   "source": [
    "7. What should the values of the following two terms be?\n",
    "\n",
    "'spam' +'spamspam'\n",
    "\n",
    "'spam' *3"
   ]
  },
  {
   "cell_type": "code",
   "execution_count": 14,
   "metadata": {},
   "outputs": [
    {
     "data": {
      "text/plain": [
       "'spamspamspam'"
      ]
     },
     "execution_count": 14,
     "metadata": {},
     "output_type": "execute_result"
    }
   ],
   "source": [
    "#Solution: \n",
    "\n",
    "'spam' +'spamspam'"
   ]
  },
  {
   "cell_type": "code",
   "execution_count": 15,
   "metadata": {},
   "outputs": [
    {
     "data": {
      "text/plain": [
       "'spamspamspam'"
      ]
     },
     "execution_count": 15,
     "metadata": {},
     "output_type": "execute_result"
    }
   ],
   "source": [
    "'spam' *3"
   ]
  },
  {
   "cell_type": "markdown",
   "metadata": {},
   "source": [
    "8. Why is eggs a valid variable name while 100 is invalid?\n",
    "\n",
    "Solution:\n",
    "\n",
    "A variable name cannot start with a number or any digits. It is a rule of declaring a variable in Python. Hence eggs is a valid variable name and 100 is not"
   ]
  },
  {
   "cell_type": "markdown",
   "metadata": {},
   "source": [
    "9. What three functions can be used to get the integer, floating-point number, or string version of a value?\n",
    "\n",
    "Solution:\n",
    "\n",
    "The three functions that can be used to get the integer, float and string version are:\n",
    "\n",
    "int(), float(), str()"
   ]
  },
  {
   "cell_type": "markdown",
   "metadata": {},
   "source": [
    "10. Why does this expression cause an error? How can you fix it?\n",
    "\n",
    "'I have eaten' + 99 + 'burritos'\n",
    "\n",
    "Solution:\n",
    "\n",
    "The reason this statement gives an error is because on either sides of 99 we have strings. We cannot simply concatenate an integer value with a string value. "
   ]
  },
  {
   "cell_type": "code",
   "execution_count": 23,
   "metadata": {},
   "outputs": [],
   "source": [
    "a='I have eaten ' + str(99) + ' burritos'"
   ]
  },
  {
   "cell_type": "code",
   "execution_count": 24,
   "metadata": {},
   "outputs": [
    {
     "data": {
      "text/plain": [
       "'I have eaten 99 burritos'"
      ]
     },
     "execution_count": 24,
     "metadata": {},
     "output_type": "execute_result"
    }
   ],
   "source": [
    "a"
   ]
  },
  {
   "cell_type": "markdown",
   "metadata": {},
   "source": [
    "We can either solve the issue by declaring 99 as a string in inverted commas or by using the str() function as done above. In this way the error is fixed."
   ]
  }
 ],
 "metadata": {
  "kernelspec": {
   "display_name": "Python 3",
   "language": "python",
   "name": "python3"
  },
  "language_info": {
   "codemirror_mode": {
    "name": "ipython",
    "version": 3
   },
   "file_extension": ".py",
   "mimetype": "text/x-python",
   "name": "python",
   "nbconvert_exporter": "python",
   "pygments_lexer": "ipython3",
   "version": "3.8.5"
  }
 },
 "nbformat": 4,
 "nbformat_minor": 4
}
