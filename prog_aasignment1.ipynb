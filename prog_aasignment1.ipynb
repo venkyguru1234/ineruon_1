{
 "cells": [
  {
   "cell_type": "code",
   "execution_count": 1,
   "metadata": {},
   "outputs": [
    {
     "name": "stdout",
     "output_type": "stream",
     "text": [
      "Hello Python\n"
     ]
    }
   ],
   "source": [
    "#1. Write a Python program to print \"Hello Python\"\n",
    "\n",
    "print(\"Hello Python\")"
   ]
  },
  {
   "cell_type": "code",
   "execution_count": 3,
   "metadata": {},
   "outputs": [
    {
     "name": "stdout",
     "output_type": "stream",
     "text": [
      "Enter a number15\n",
      "Enter a number3\n",
      "The addition of the two numbers is  18\n",
      "The division of the two numbers is  5.0\n"
     ]
    }
   ],
   "source": [
    "#2. Write a Python program to do arithmetical operations addition and division.?\n",
    "\n",
    "a= int(input(\"Enter a number\"))\n",
    "b= int(input(\"Enter a number\"))\n",
    "\n",
    "add= a+b\n",
    "div= a/b\n",
    "\n",
    "print(\"The addition of the two numbers is \", add)\n",
    "print(\"The division of the two numbers is \", div)"
   ]
  },
  {
   "cell_type": "code",
   "execution_count": 4,
   "metadata": {},
   "outputs": [
    {
     "name": "stdout",
     "output_type": "stream",
     "text": [
      "Enter the length of the base of the triangle6\n",
      "Enter the height of the triangle12\n",
      "The area of the triangle is  36.0\n"
     ]
    }
   ],
   "source": [
    "#3. Write a Python program to find the area of a triangle?\n",
    "\n",
    "b= int(input(\"Enter the length of the base of the triangle\"))\n",
    "\n",
    "h=int(input(\"Enter the height of the triangle\"))\n",
    "\n",
    "area= (1/2)*(b*h)\n",
    "\n",
    "print(\"The area of the triangle is \", area)"
   ]
  },
  {
   "cell_type": "code",
   "execution_count": 5,
   "metadata": {},
   "outputs": [
    {
     "name": "stdout",
     "output_type": "stream",
     "text": [
      "Enter a number10\n",
      "Enter a number7\n",
      "The numbers are  10 7\n",
      "The swapped numbers a and b are  7 10\n"
     ]
    }
   ],
   "source": [
    "#4. Write a Python program to swap two variables?\n",
    "\n",
    "a= int(input(\"Enter a number\"))\n",
    "b= int(input(\"Enter a number\"))\n",
    "\n",
    "print(\"The numbers are \",a,b)\n",
    "\n",
    "a+=b\n",
    "b= a-b\n",
    "a-=b\n",
    "\n",
    "print(\"The swapped numbers a and b are \",a,b)"
   ]
  },
  {
   "cell_type": "code",
   "execution_count": 10,
   "metadata": {},
   "outputs": [
    {
     "name": "stdout",
     "output_type": "stream",
     "text": [
      "3\n"
     ]
    }
   ],
   "source": [
    "#5. Write a Python program to generate a random number?\n",
    "import random\n",
    "a= random.randint(0,100)\n",
    "\n",
    "print(a)"
   ]
  }
 ],
 "metadata": {
  "kernelspec": {
   "display_name": "Python 3",
   "language": "python",
   "name": "python3"
  },
  "language_info": {
   "codemirror_mode": {
    "name": "ipython",
    "version": 3
   },
   "file_extension": ".py",
   "mimetype": "text/x-python",
   "name": "python",
   "nbconvert_exporter": "python",
   "pygments_lexer": "ipython3",
   "version": "3.8.5"
  }
 },
 "nbformat": 4,
 "nbformat_minor": 4
}
